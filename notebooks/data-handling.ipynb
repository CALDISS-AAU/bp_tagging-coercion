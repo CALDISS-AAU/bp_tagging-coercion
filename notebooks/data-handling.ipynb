{
 "cells": [
  {
   "cell_type": "code",
   "execution_count": 60,
   "id": "0901944f",
   "metadata": {},
   "outputs": [],
   "source": [
    "import os\n",
    "import json\n",
    "import copy"
   ]
  },
  {
   "cell_type": "code",
   "execution_count": 61,
   "id": "b9413d86",
   "metadata": {},
   "outputs": [],
   "source": [
    "data_f = os.path.join(\"..\", \"data\")\n",
    "data_n = \"tc_anno-ents_comb_20210702.jsonl\"\n",
    "data_p = os.path.join(data_f, data_n)"
   ]
  },
  {
   "cell_type": "code",
   "execution_count": 62,
   "id": "68d79a97",
   "metadata": {},
   "outputs": [],
   "source": [
    "with open(data_p, 'r') as f:\n",
    "    data = [json.loads(jline) for jline in f.read().splitlines()]"
   ]
  },
  {
   "cell_type": "code",
   "execution_count": 63,
   "id": "367e605a",
   "metadata": {},
   "outputs": [],
   "source": [
    "# Possible span labels: CITY, NAME, ADDRESS\n",
    "span_labels = ['CITY', 'NAME', 'ADDRESS']\n",
    "\n",
    "datasets = {}\n",
    "\n",
    "for label in span_labels:\n",
    "    data_copy = copy.deepcopy(data)\n",
    "    for entry in data_copy:\n",
    "        entry['spans'] = [span for span in entry.get('spans') if span.get('label') == label]\n",
    "    \n",
    "    datasets[label] = data_copy"
   ]
  },
  {
   "cell_type": "code",
   "execution_count": 64,
   "id": "cd77c2b9",
   "metadata": {},
   "outputs": [],
   "source": [
    "filenames = {}\n",
    "for label in span_labels:\n",
    "    filename = f\"tc_{label}.json\"\n",
    "    filenames[label] = filename"
   ]
  },
  {
   "cell_type": "code",
   "execution_count": 65,
   "id": "fef70e1e",
   "metadata": {},
   "outputs": [],
   "source": [
    "for label in span_labels:\n",
    "    data_out = os.path.join(data_f, filenames[label])\n",
    "    with open(data_out, 'w') as outfile:\n",
    "        json.dump(datasets[label], outfile)"
   ]
  }
 ],
 "metadata": {
  "kernelspec": {
   "display_name": "Python 3 (ipykernel)",
   "language": "python",
   "name": "python3"
  },
  "language_info": {
   "codemirror_mode": {
    "name": "ipython",
    "version": 3
   },
   "file_extension": ".py",
   "mimetype": "text/x-python",
   "name": "python",
   "nbconvert_exporter": "python",
   "pygments_lexer": "ipython3",
   "version": "3.7.9"
  }
 },
 "nbformat": 4,
 "nbformat_minor": 5
}
